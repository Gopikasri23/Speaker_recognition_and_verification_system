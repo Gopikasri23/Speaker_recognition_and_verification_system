{
 "cells": [
  {
   "cell_type": "code",
   "execution_count": 1,
   "id": "a676cdd0",
   "metadata": {},
   "outputs": [
    {
     "name": "stdout",
     "output_type": "stream",
     "text": [
      "Collecting pydub\n",
      "  Using cached pydub-0.25.1-py2.py3-none-any.whl (32 kB)\n",
      "Installing collected packages: pydub\n",
      "Successfully installed pydub-0.25.1\n",
      "Note: you may need to restart the kernel to use updated packages.\n"
     ]
    }
   ],
   "source": [
    "pip install pydub"
   ]
  },
  {
   "cell_type": "code",
   "execution_count": 3,
   "id": "71e5206c",
   "metadata": {},
   "outputs": [],
   "source": [
    "from pydub import AudioSegment\n",
    "import os\n",
    "\n",
    "#the input audios are split into 4 secs\n",
    "def audiosplit(audio , name ):\n",
    "    start = 0\n",
    "    threshold = 4000 #4 secs\n",
    "    end = 0\n",
    "    counter = 0\n",
    "\n",
    "    while start < len(audio):\n",
    "\n",
    "        end += threshold\n",
    "\n",
    "        chunk = audio[start:end] #audio chunk\n",
    "\n",
    "        filename = f'F:/Speaker_Verification_and_Authentication/Train/{name}/{name}{counter}.wav'\n",
    "\n",
    "        chunk.export(filename, format=\"wav\")\n",
    "\n",
    "        counter +=1\n",
    "\n",
    "        start += threshold\n"
   ]
  },
  {
   "cell_type": "code",
   "execution_count": 4,
   "id": "3b38a6d0",
   "metadata": {},
   "outputs": [],
   "source": [
    "data_directory = \"F:/Speaker_Verification_and_Authentication/audios\" #path where the original audio of many people present"
   ]
  },
  {
   "cell_type": "code",
   "execution_count": 5,
   "id": "7140120c",
   "metadata": {},
   "outputs": [],
   "source": [
    "\n",
    "parent_dir = \"F:\\Speaker_Verification_and_Authentication\\Train\" #path where the splitting audio will present\n",
    "i = 0\n",
    "for k in os.listdir(data_directory):\n",
    "    name = (k.split('.'))[0]\n",
    "    \n",
    "    path = os.path.join(parent_dir,name)\n",
    "    \n",
    "    if not os.path.isdir(path):\n",
    "        os.mkdir(path)\n",
    "        \n",
    "    file_path = os.path.join(data_directory , k)\n",
    "    audio = AudioSegment.from_file( file_path )\n",
    "    audiosplit(audio,name)\n",
    "    "
   ]
  }
 ],
 "metadata": {
  "kernelspec": {
   "display_name": "Python 3 (ipykernel)",
   "language": "python",
   "name": "python3"
  },
  "language_info": {
   "codemirror_mode": {
    "name": "ipython",
    "version": 3
   },
   "file_extension": ".py",
   "mimetype": "text/x-python",
   "name": "python",
   "nbconvert_exporter": "python",
   "pygments_lexer": "ipython3",
   "version": "3.9.13"
  }
 },
 "nbformat": 4,
 "nbformat_minor": 5
}
